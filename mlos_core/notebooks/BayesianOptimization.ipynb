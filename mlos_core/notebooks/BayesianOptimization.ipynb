{
 "cells": [
  {
   "attachments": {},
   "cell_type": "markdown",
   "metadata": {},
   "source": [
    "# Bayesian Optimization Example Using `mlos_core`"
   ]
  },
  {
   "cell_type": "code",
   "execution_count": 1,
   "metadata": {},
   "outputs": [],
   "source": [
    "import matplotlib.pyplot as plt\n",
    "import numpy as np\n",
    "import pandas as pd"
   ]
  },
  {
   "cell_type": "code",
   "execution_count": 2,
   "metadata": {},
   "outputs": [],
   "source": [
    "# Define a fake \"performance\" function.\n",
    "# In an actual application, we would not have access to this function directly.\n",
    "# Instead, we could only measure the outcome by running an experiment, such as timing\n",
    "# a particular run of the system.\n",
    "def f(x):\n",
    "    return (6*x-2)**2*np.sin(12*x-4)"
   ]
  },
  {
   "cell_type": "code",
   "execution_count": 3,
   "metadata": {},
   "outputs": [
    {
     "data": {
      "text/plain": [
       "Text(0, 0.5, 'Objective (i.e. performance)')"
      ]
     },
     "execution_count": 3,
     "metadata": {},
     "output_type": "execute_result"
    },
    {
     "data": {
      "image/png": "[encoded data removed]",
      "text/plain": [
       "<Figure size 640x480 with 1 Axes>"
      ]
     },
     "metadata": {},
     "output_type": "display_data"
    }
   ],
   "source": [
    "# define a domain to evaluate\n",
    "line = np.linspace(0, 1)\n",
    "# evaluate the function\n",
    "values = f(line)\n",
    "# plot the function\n",
    "plt.plot(line, values)\n",
    "plt.xlabel(\"Input (parameter)\")\n",
    "plt.ylabel(\"Objective (i.e. performance)\")"
   ]
  },
  {
   "cell_type": "code",
   "execution_count": 4,
   "metadata": {},
   "outputs": [
    {
     "data": {
      "text/plain": [
       "x, Type: UniformFloat, Range: [0.0, 1.0], Default: 0.5"
      ]
     },
     "execution_count": 4,
     "metadata": {},
     "output_type": "execute_result"
    }
   ],
   "source": [
    "import ConfigSpace as CS\n",
    "\n",
    "# Start defining a ConfigurationSpace for the Optimizer to search.\n",
    "input_space = CS.ConfigurationSpace(seed=1234)\n",
    "\n",
    "# Add a single continuous input dimension between 0 and 1.\n",
    "input_space.add_hyperparameter(CS.UniformFloatHyperparameter(name='x', lower=0, upper=1))"
   ]
  },
  {
   "cell_type": "code",
   "execution_count": 5,
   "metadata": {},
   "outputs": [],
   "source": [
    "import mlos_core.optimizers"
   ]
  },
  {
   "cell_type": "code",
   "execution_count": 6,
   "metadata": {},
   "outputs": [
    {
     "name": "stderr",
     "output_type": "stream",
     "text": [
      "The argument budget is not set by SMAC: Consider removing it from the target function.\n",
      "The argument instance is not set by SMAC: Consider removing it from the target function.\n"
     ]
    }
   ],
   "source": [
    "# Choose an optimizer.\n",
    "\n",
    "#optimizer = mlos_core.optimizers.RandomOptimizer(parameter_space=input_space)\n",
    "\n",
    "#optimizer = mlos_core.optimizers.FlamlOptimizer(parameter_space=input_space)\n",
    "\n",
    "optimizer = mlos_core.optimizers.SmacOptimizer(parameter_space=input_space) # , seed=42, n_random_init=20)"
   ]
  },
  {
   "cell_type": "code",
   "execution_count": 7,
   "metadata": {},
   "outputs": [
    {
     "data": {
      "text/plain": [
       "SmacOptimizer(space_adapter=None)"
      ]
     },
     "execution_count": 7,
     "metadata": {},
     "output_type": "execute_result"
    }
   ],
   "source": [
    "# Inspect the chosen optimizer\n",
    "optimizer"
   ]
  },
  {
   "attachments": {},
   "cell_type": "markdown",
   "metadata": {},
   "source": [
    "Now, we can run the actual optimization which will carry out the steps outlined above."
   ]
  },
  {
   "cell_type": "code",
   "execution_count": 8,
   "metadata": {},
   "outputs": [
    {
     "name": "stdout",
     "output_type": "stream",
     "text": [
      "          x\n",
      "0  0.885216 \n",
      " 0    3.650483\n",
      "Name: x, dtype: float64\n",
      "         x\n",
      "0  0.46549 \n",
      " 0    0.628686\n",
      "Name: x, dtype: float64\n",
      "          x\n",
      "0  0.083535 \n",
      " 0   -0.322383\n",
      "Name: x, dtype: float64\n",
      "          x\n",
      "0  0.503256 \n",
      " 0    0.927554\n",
      "Name: x, dtype: float64\n",
      "          x\n",
      "0  0.672617 \n",
      " 0   -3.321526\n",
      "Name: x, dtype: float64\n",
      "          x\n",
      "0  0.224721 \n",
      " 0   -0.409583\n",
      "Name: x, dtype: float64\n",
      "          x\n",
      "0  0.358637 \n",
      " 0    0.006892\n",
      "Name: x, dtype: float64\n",
      "          x\n",
      "0  0.806523 \n",
      " 0   -4.584014\n",
      "Name: x, dtype: float64\n",
      "          x\n",
      "0  0.848845 \n",
      " 0   -0.926933\n",
      "Name: x, dtype: float64\n",
      "         x\n",
      "0  0.30069 \n",
      " 0   -0.014645\n",
      "Name: x, dtype: float64\n",
      "          x\n",
      "0  0.062298 \n",
      " 0    0.292515\n",
      "Name: x, dtype: float64\n",
      "          x\n",
      "0  0.067593 \n",
      " 0    0.120172\n",
      "Name: x, dtype: float64\n",
      "          x\n",
      "0  0.052183 \n",
      " 0    0.654852\n",
      "Name: x, dtype: float64\n",
      "          x\n",
      "0  0.801283 \n",
      " 0   -4.881645\n",
      "Name: x, dtype: float64\n",
      "          x\n",
      "0  0.792032 \n",
      " 0   -5.32058\n",
      "Name: x, dtype: float64\n"
     ]
    }
   ],
   "source": [
    "def run_optimization(optimizer: mlos_core.optimizers.BaseOptimizer):\n",
    "    # get a new config value suggestion to try from the optimizer.\n",
    "    suggested_value, context = optimizer.suggest()\n",
    "    # suggested value are dictionary-like, keys are input space parameter names\n",
    "    # evaluate target function\n",
    "    target_value = f(suggested_value['x'])\n",
    "    print(suggested_value, \"\\n\", target_value)\n",
    "    optimizer.register(suggested_value, target_value, context)\n",
    "\n",
    "# run for some iterations\n",
    "n_iterations = 15\n",
    "for i in range(n_iterations):\n",
    "    run_optimization(optimizer)"
   ]
  },
  {
   "attachments": {},
   "cell_type": "markdown",
   "metadata": {},
   "source": [
    "After 15 iterations, the model is likely to have captured the general shape, but probably not have found the actual optimum since the first few iterations are spent randomly exploring the space."
   ]
  },
  {
   "cell_type": "code",
   "execution_count": 9,
   "metadata": {},
   "outputs": [
    {
     "data": {
      "text/html": [
       "<div>\n",
       "<style scoped>\n",
       "    .dataframe tbody tr th:only-of-type {\n",
       "        vertical-align: middle;\n",
       "    }\n",
       "\n",
       "    .dataframe tbody tr th {\n",
       "        vertical-align: top;\n",
       "    }\n",
       "\n",
       "    .dataframe thead th {\n",
       "        text-align: right;\n",
       "    }\n",
       "</style>\n",
       "<table border=\"1\" class=\"dataframe\">\n",
       "  <thead>\n",
       "    <tr style=\"text-align: right;\">\n",
       "      <th></th>\n",
       "      <th>x</th>\n",
       "      <th>score</th>\n",
       "    </tr>\n",
       "  </thead>\n",
       "  <tbody>\n",
       "    <tr>\n",
       "      <th>0</th>\n",
       "      <td>0.885216</td>\n",
       "      <td>3.650483</td>\n",
       "    </tr>\n",
       "    <tr>\n",
       "      <th>0</th>\n",
       "      <td>0.465490</td>\n",
       "      <td>0.628686</td>\n",
       "    </tr>\n",
       "    <tr>\n",
       "      <th>0</th>\n",
       "      <td>0.083535</td>\n",
       "      <td>-0.322383</td>\n",
       "    </tr>\n",
       "    <tr>\n",
       "      <th>0</th>\n",
       "      <td>0.503256</td>\n",
       "      <td>0.927554</td>\n",
       "    </tr>\n",
       "    <tr>\n",
       "      <th>0</th>\n",
       "      <td>0.672617</td>\n",
       "      <td>-3.321526</td>\n",
       "    </tr>\n",
       "    <tr>\n",
       "      <th>0</th>\n",
       "      <td>0.224721</td>\n",
       "      <td>-0.409583</td>\n",
       "    </tr>\n",
       "    <tr>\n",
       "      <th>0</th>\n",
       "      <td>0.358637</td>\n",
       "      <td>0.006892</td>\n",
       "    </tr>\n",
       "    <tr>\n",
       "      <th>0</th>\n",
       "      <td>0.806523</td>\n",
       "      <td>-4.584014</td>\n",
       "    </tr>\n",
       "    <tr>\n",
       "      <th>0</th>\n",
       "      <td>0.848845</td>\n",
       "      <td>-0.926933</td>\n",
       "    </tr>\n",
       "    <tr>\n",
       "      <th>0</th>\n",
       "      <td>0.300690</td>\n",
       "      <td>-0.014645</td>\n",
       "    </tr>\n",
       "    <tr>\n",
       "      <th>0</th>\n",
       "      <td>0.062298</td>\n",
       "      <td>0.292515</td>\n",
       "    </tr>\n",
       "    <tr>\n",
       "      <th>0</th>\n",
       "      <td>0.067593</td>\n",
       "      <td>0.120172</td>\n",
       "    </tr>\n",
       "    <tr>\n",
       "      <th>0</th>\n",
       "      <td>0.052183</td>\n",
       "      <td>0.654852</td>\n",
       "    </tr>\n",
       "    <tr>\n",
       "      <th>0</th>\n",
       "      <td>0.801283</td>\n",
       "      <td>-4.881645</td>\n",
       "    </tr>\n",
       "    <tr>\n",
       "      <th>0</th>\n",
       "      <td>0.792032</td>\n",
       "      <td>-5.320580</td>\n",
       "    </tr>\n",
       "  </tbody>\n",
       "</table>\n",
       "</div>"
      ],
      "text/plain": [
       "          x     score\n",
       "0  0.885216  3.650483\n",
       "0  0.465490  0.628686\n",
       "0  0.083535 -0.322383\n",
       "0  0.503256  0.927554\n",
       "0  0.672617 -3.321526\n",
       "0  0.224721 -0.409583\n",
       "0  0.358637  0.006892\n",
       "0  0.806523 -4.584014\n",
       "0  0.848845 -0.926933\n",
       "0  0.300690 -0.014645\n",
       "0  0.062298  0.292515\n",
       "0  0.067593  0.120172\n",
       "0  0.052183  0.654852\n",
       "0  0.801283 -4.881645\n",
       "0  0.792032 -5.320580"
      ]
     },
     "execution_count": 9,
     "metadata": {},
     "output_type": "execute_result"
    }
   ],
   "source": [
    "optimizer.get_observations()"
   ]
  },
  {
   "cell_type": "code",
   "execution_count": 10,
   "metadata": {},
   "outputs": [
    {
     "data": {
      "image/png": "[encoded data removed]",
      "text/plain": [
       "<Figure size 640x480 with 1 Axes>"
      ]
     },
     "metadata": {},
     "output_type": "display_data"
    }
   ],
   "source": [
    "# evaluate the surrogate function\n",
    "#\n",
    "configs = pd.DataFrame(line.reshape(-1, 1), columns=['x'])\n",
    "surrogate_predictions = optimizer.surrogate_predict(configs)\n",
    "\n",
    "# plot the observations\n",
    "#\n",
    "observations = optimizer.get_observations()\n",
    "plt.scatter(observations.x, observations.score, label='observed points')\n",
    "\n",
    "# plot the true function (usually unknown)\n",
    "#\n",
    "plt.plot(line, values, label='true function')\n",
    "\n",
    "# plot the surrogate\n",
    "#\n",
    "# alpha = optimizer_config.experiment_designer_config.confidence_bound_utility_function_config.alpha\n",
    "# t_values = t.ppf(1 - alpha / 2.0, surrogate_predictions['predicted_value_degrees_of_freedom'])\n",
    "# ci_radii = t_values * np.sqrt(surrogate_predictions['predicted_value_variance'])\n",
    "# value = surrogate_predictions['predicted_value']\n",
    "plt.plot(line, surrogate_predictions, label='surrogate predictions')\n",
    "#plt.fill_between(line, value - ci_radii, value + ci_radii, alpha=.1)\n",
    "#plt.plot(line, -optimizer.experiment_designer.utility_function(optimization_problem.construct_feature_dataframe(pd.DataFrame({'x': line}))), ':', label='utility_function')\n",
    "plt.ylabel(\"Objective function f (performance)\")\n",
    "plt.xlabel(\"Input variable\")\n",
    "plt.legend()\n",
    "plt.show()"
   ]
  },
  {
   "attachments": {},
   "cell_type": "markdown",
   "metadata": {},
   "source": [
    "We can find the best value according to the current surrogate with the ``optimum`` method:"
   ]
  },
  {
   "cell_type": "code",
   "execution_count": 11,
   "metadata": {},
   "outputs": [
    {
     "data": {
      "text/html": [
       "<div>\n",
       "<style scoped>\n",
       "    .dataframe tbody tr th:only-of-type {\n",
       "        vertical-align: middle;\n",
       "    }\n",
       "\n",
       "    .dataframe tbody tr th {\n",
       "        vertical-align: top;\n",
       "    }\n",
       "\n",
       "    .dataframe thead th {\n",
       "        text-align: right;\n",
       "    }\n",
       "</style>\n",
       "<table border=\"1\" class=\"dataframe\">\n",
       "  <thead>\n",
       "    <tr style=\"text-align: right;\">\n",
       "      <th></th>\n",
       "      <th>x</th>\n",
       "      <th>score</th>\n",
       "    </tr>\n",
       "  </thead>\n",
       "  <tbody>\n",
       "    <tr>\n",
       "      <th>0</th>\n",
       "      <td>0.792032</td>\n",
       "      <td>-5.32058</td>\n",
       "    </tr>\n",
       "  </tbody>\n",
       "</table>\n",
       "</div>"
      ],
      "text/plain": [
       "          x    score\n",
       "0  0.792032 -5.32058"
      ]
     },
     "execution_count": 11,
     "metadata": {},
     "output_type": "execute_result"
    }
   ],
   "source": [
    "optimizer.get_best_observation()"
   ]
  },
  {
   "attachments": {},
   "cell_type": "markdown",
   "metadata": {},
   "source": [
    "We can run more iterations to improve the surrogate model and the optimum that is found:"
   ]
  },
  {
   "cell_type": "code",
   "execution_count": 12,
   "metadata": {},
   "outputs": [
    {
     "name": "stdout",
     "output_type": "stream",
     "text": [
      "          x\n",
      "0  0.073487 \n",
      " 0   -0.056953\n",
      "Name: x, dtype: float64\n",
      "          x\n",
      "0  0.778805 \n",
      " 0   -5.758773\n",
      "Name: x, dtype: float64\n",
      "          x\n",
      "0  0.772863 \n",
      " 0   -5.885139\n",
      "Name: x, dtype: float64\n",
      "          x\n",
      "0  0.761347 \n",
      " 0   -6.011669\n",
      "Name: x, dtype: float64\n",
      "          x\n",
      "0  0.746361 \n",
      " 0   -5.959482\n",
      "Name: x, dtype: float64\n",
      "          x\n",
      "0  0.761452 \n",
      " 0   -6.011193\n",
      "Name: x, dtype: float64\n",
      "         x\n",
      "0  0.75968 \n",
      " 0   -6.017561\n",
      "Name: x, dtype: float64\n",
      "         x\n",
      "0  0.75746 \n",
      " 0   -6.020716\n",
      "Name: x, dtype: float64\n",
      "         x\n",
      "0  0.74897 \n",
      " 0   -5.985032\n",
      "Name: x, dtype: float64\n",
      "          x\n",
      "0  0.753181 \n",
      " 0   -6.012009\n",
      "Name: x, dtype: float64\n",
      "         x\n",
      "0  0.75743 \n",
      " 0   -6.020722\n",
      "Name: x, dtype: float64\n",
      "          x\n",
      "0  0.010426 \n",
      " 0    2.512407\n",
      "Name: x, dtype: float64\n",
      "          x\n",
      "0  0.756996 \n",
      " 0   -6.020706\n",
      "Name: x, dtype: float64\n",
      "          x\n",
      "0  0.000775 \n",
      " 0    2.988794\n",
      "Name: x, dtype: float64\n",
      "          x\n",
      "0  0.757901 \n",
      " 0   -6.020512\n",
      "Name: x, dtype: float64\n",
      "         x\n",
      "0  0.75639 \n",
      " 0   -6.020348\n",
      "Name: x, dtype: float64\n",
      "          x\n",
      "0  0.059265 \n",
      " 0    0.396695\n",
      "Name: x, dtype: float64\n",
      "          x\n",
      "0  0.757405 \n",
      " 0   -6.020727\n",
      "Name: x, dtype: float64\n",
      "          x\n",
      "0  0.757312 \n",
      " 0   -6.020738\n",
      "Name: x, dtype: float64\n",
      "          x\n",
      "0  0.757304 \n",
      " 0   -6.020738\n",
      "Name: x, dtype: float64\n",
      "          x\n",
      "0  0.853521 \n",
      " 0   -0.398606\n",
      "Name: x, dtype: float64\n",
      "         x\n",
      "0  0.75711 \n",
      " 0   -6.02073\n",
      "Name: x, dtype: float64\n",
      "          x\n",
      "0  0.757242 \n",
      " 0   -6.02074\n",
      "Name: x, dtype: float64\n",
      "          x\n",
      "0  0.757276 \n",
      " 0   -6.02074\n",
      "Name: x, dtype: float64\n",
      "          x\n",
      "0  0.757244 \n",
      " 0   -6.02074\n",
      "Name: x, dtype: float64\n",
      "          x\n",
      "0  0.756502 \n",
      " 0   -6.020443\n",
      "Name: x, dtype: float64\n",
      "          x\n",
      "0  0.757258 \n",
      " 0   -6.02074\n",
      "Name: x, dtype: float64\n",
      "          x\n",
      "0  0.757164 \n",
      " 0   -6.020736\n",
      "Name: x, dtype: float64\n",
      "          x\n",
      "0  0.757222 \n",
      " 0   -6.02074\n",
      "Name: x, dtype: float64\n",
      "         x\n",
      "0  0.75723 \n",
      " 0   -6.02074\n",
      "Name: x, dtype: float64\n",
      "          x\n",
      "0  0.758168 \n",
      " 0   -6.020288\n",
      "Name: x, dtype: float64\n",
      "          x\n",
      "0  0.729207 \n",
      " 0   -5.637674\n",
      "Name: x, dtype: float64\n",
      "          x\n",
      "0  0.933398 \n",
      " 0    10.294283\n",
      "Name: x, dtype: float64\n",
      "         x\n",
      "0  0.75717 \n",
      " 0   -6.020737\n",
      "Name: x, dtype: float64\n",
      "          x\n",
      "0  0.522945 \n",
      " 0    0.986131\n",
      "Name: x, dtype: float64\n",
      "          x\n",
      "0  0.243288 \n",
      " 0   -0.257511\n",
      "Name: x, dtype: float64\n",
      "          x\n",
      "0  0.757385 \n",
      " 0   -6.02073\n",
      "Name: x, dtype: float64\n",
      "          x\n",
      "0  0.198573 \n",
      " 0   -0.653071\n",
      "Name: x, dtype: float64\n",
      "          x\n",
      "0  0.757235 \n",
      " 0   -6.02074\n",
      "Name: x, dtype: float64\n",
      "          x\n",
      "0  0.757261 \n",
      " 0   -6.02074\n",
      "Name: x, dtype: float64\n",
      "          x\n",
      "0  0.757364 \n",
      " 0   -6.020733\n",
      "Name: x, dtype: float64\n",
      "          x\n",
      "0  0.176412 \n",
      " 0   -0.843609\n",
      "Name: x, dtype: float64\n",
      "          x\n",
      "0  0.757606 \n",
      " 0   -6.020672\n",
      "Name: x, dtype: float64\n",
      "          x\n",
      "0  0.757209 \n",
      " 0   -6.020739\n",
      "Name: x, dtype: float64\n",
      "          x\n",
      "0  0.141766 \n",
      " 0   -0.986222\n",
      "Name: x, dtype: float64\n",
      "          x\n",
      "0  0.963665 \n",
      " 0    13.706197\n",
      "Name: x, dtype: float64\n",
      "          x\n",
      "0  0.150213 \n",
      " 0   -0.977822\n",
      "Name: x, dtype: float64\n",
      "         x\n",
      "0  0.52569 \n",
      " 0    0.985926\n",
      "Name: x, dtype: float64\n",
      "          x\n",
      "0  0.020198 \n",
      " 0    2.039602\n",
      "Name: x, dtype: float64\n",
      "          x\n",
      "0  0.831894 \n",
      " 0   -2.648306\n",
      "Name: x, dtype: float64\n"
     ]
    }
   ],
   "source": [
    "# run for more iterations\n",
    "n_iterations = 50\n",
    "for i in range(n_iterations):\n",
    "    run_optimization(optimizer)"
   ]
  },
  {
   "attachments": {},
   "cell_type": "markdown",
   "metadata": {},
   "source": [
    "There is some improvement in the optimum:"
   ]
  },
  {
   "cell_type": "code",
   "execution_count": 13,
   "metadata": {},
   "outputs": [
    {
     "data": {
      "text/html": [
       "<div>\n",
       "<style scoped>\n",
       "    .dataframe tbody tr th:only-of-type {\n",
       "        vertical-align: middle;\n",
       "    }\n",
       "\n",
       "    .dataframe tbody tr th {\n",
       "        vertical-align: top;\n",
       "    }\n",
       "\n",
       "    .dataframe thead th {\n",
       "        text-align: right;\n",
       "    }\n",
       "</style>\n",
       "<table border=\"1\" class=\"dataframe\">\n",
       "  <thead>\n",
       "    <tr style=\"text-align: right;\">\n",
       "      <th></th>\n",
       "      <th>x</th>\n",
       "      <th>score</th>\n",
       "    </tr>\n",
       "  </thead>\n",
       "  <tbody>\n",
       "    <tr>\n",
       "      <th>0</th>\n",
       "      <td>0.757244</td>\n",
       "      <td>-6.02074</td>\n",
       "    </tr>\n",
       "  </tbody>\n",
       "</table>\n",
       "</div>"
      ],
      "text/plain": [
       "          x    score\n",
       "0  0.757244 -6.02074"
      ]
     },
     "execution_count": 13,
     "metadata": {},
     "output_type": "execute_result"
    }
   ],
   "source": [
    "optimizer.get_best_observation()"
   ]
  },
  {
   "attachments": {},
   "cell_type": "markdown",
   "metadata": {},
   "source": [
    "We can now visualize the surrogate model and optimization process again. The points are colored according to the iteration number, with dark blue points being early in the process and yellow points being later. You can see that at the end of the optimization, the points start to cluster around the optimum.\n",
    "The region to the right is not explored much because the surrogate model predicts that it is not likely to contain the optimum and hence also doesn't have as much accuracy compared to the real function there."
   ]
  },
  {
   "cell_type": "code",
   "execution_count": 14,
   "metadata": {},
   "outputs": [
    {
     "data": {
      "text/plain": [
       "<matplotlib.legend.Legend at 0x7fec6f7ba250>"
      ]
     },
     "execution_count": 14,
     "metadata": {},
     "output_type": "execute_result"
    },
    {
     "data": {
      "image/png": "[encoded data removed]",
      "text/plain": [
       "<Figure size 640x480 with 2 Axes>"
      ]
     },
     "metadata": {},
     "output_type": "display_data"
    }
   ],
   "source": [
    "# evaluate the surrogate function\n",
    "#\n",
    "configs = pd.DataFrame(line.reshape(-1, 1), columns=['x'])\n",
    "surrogate_predictions = optimizer.surrogate_predict(configs)\n",
    "\n",
    "# plot the observations\n",
    "#\n",
    "observations = optimizer.get_observations()\n",
    "plt.scatter(observations.x, observations.score, label='observed points')\n",
    "\n",
    "# plot true function (usually unknown)\n",
    "#\n",
    "plt.plot(line, values, label='true function')\n",
    "\n",
    "# plot the surrogate\n",
    "#\n",
    "#ci_raduii = surrogate_predictions['prediction_ci']\n",
    "plt.plot(line, surrogate_predictions, label='surrogate predictions')\n",
    "#plt.fill_between(line, value - ci_radii, value + ci_radii, alpha=.1)\n",
    "#plt.plot(line, -optimizer.utility_function(pd.DataFrame({'x': line})), ':', label='utility_function')\n",
    "\n",
    "ax = plt.gca()\n",
    "ax.set_ylabel(\"Objective function f\")\n",
    "ax.set_xlabel(\"Input variable\")\n",
    "bins_axes = ax.twinx()\n",
    "bins_axes.set_ylabel(\"Points sampled\")\n",
    "pd.DataFrame(observations.x).hist(bins=20, ax=bins_axes, alpha=.3, color='k', label=\"count of query points\")\n",
    "plt.legend()"
   ]
  }
 ],
 "metadata": {
  "interpreter": {
   "hash": "dcb43bafd5ce954ead015d0d89e27da6852c23ac7a7b5a1213fc2fecbe919e66"
  },
  "kernelspec": {
   "display_name": "Python [conda env:mlos_core] *",
   "language": "python",
   "name": "python3"
  },
  "language_info": {
   "codemirror_mode": {
    "name": "ipython",
    "version": 3
   },
   "file_extension": ".py",
   "mimetype": "text/x-python",
   "name": "python",
   "nbconvert_exporter": "python",
   "pygments_lexer": "ipython3",
   "version": "3.11.9"
  }
 },
 "nbformat": 4,
 "nbformat_minor": 4
}
