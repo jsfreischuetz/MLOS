{
 "cells": [
  {
   "attachments": {},
   "cell_type": "markdown",
   "metadata": {},
   "source": [
    "# Bayesian Optimization Example Using `mlos_core`"
   ]
  },
  {
   "cell_type": "code",
   "execution_count": 1,
   "metadata": {},
   "outputs": [],
   "source": [
    "import matplotlib.pyplot as plt\n",
    "import numpy as np\n",
    "import pandas as pd"
   ]
  },
  {
   "cell_type": "code",
   "execution_count": 2,
   "metadata": {},
   "outputs": [],
   "source": [
    "# Define a fake \"performance\" function.\n",
    "# In an actual application, we would not have access to this function directly.\n",
    "# Instead, we could only measure the outcome by running an experiment, such as timing\n",
    "# a particular run of the system.\n",
    "def f(x):\n",
    "    return (6*x-2)**2*np.sin(12*x-4)"
   ]
  },
  {
   "cell_type": "code",
   "execution_count": 3,
   "metadata": {},
   "outputs": [
    {
     "data": {
      "text/plain": [
       "Text(0, 0.5, 'Objective (i.e. performance)')"
      ]
     },
     "execution_count": 3,
     "metadata": {},
     "output_type": "execute_result"
    },
    {
     "data": {
      "image/png": "[encoded data removed]",
      "text/plain": [
       "<Figure size 640x480 with 1 Axes>"
      ]
     },
     "metadata": {},
     "output_type": "display_data"
    }
   ],
   "source": [
    "# define a domain to evaluate\n",
    "line = np.linspace(0, 1)\n",
    "# evaluate the function\n",
    "values = f(line)\n",
    "# plot the function\n",
    "plt.plot(line, values)\n",
    "plt.xlabel(\"Input (parameter)\")\n",
    "plt.ylabel(\"Objective (i.e. performance)\")"
   ]
  },
  {
   "cell_type": "code",
   "execution_count": 4,
   "metadata": {},
   "outputs": [
    {
     "ename": "ModuleNotFoundError",
     "evalue": "No module named 'ConfigSpace'",
     "output_type": "error",
     "traceback": [
      "\u001b[0;31m---------------------------------------------------------------------------\u001b[0m",
      "\u001b[0;31mModuleNotFoundError\u001b[0m                       Traceback (most recent call last)",
      "\u001b[1;32m/home/zimooo2/noise-tuning/distributed/MLOS/mlos_core/notebooks/BayesianOptimization.ipynb Cell 5\u001b[0m line \u001b[0;36m1\n\u001b[0;32m----> <a href='vscode-notebook-cell://wsl%2Bubuntu-22.04/home/zimooo2/noise-tuning/distributed/MLOS/mlos_core/notebooks/BayesianOptimization.ipynb#W4sdnNjb2RlLXJlbW90ZQ%3D%3D?line=0'>1</a>\u001b[0m \u001b[39mimport\u001b[39;00m \u001b[39mConfigSpace\u001b[39;00m \u001b[39mas\u001b[39;00m \u001b[39mCS\u001b[39;00m\n\u001b[1;32m      <a href='vscode-notebook-cell://wsl%2Bubuntu-22.04/home/zimooo2/noise-tuning/distributed/MLOS/mlos_core/notebooks/BayesianOptimization.ipynb#W4sdnNjb2RlLXJlbW90ZQ%3D%3D?line=2'>3</a>\u001b[0m \u001b[39m# Start defining a ConfigurationSpace for the Optimizer to search.\u001b[39;00m\n\u001b[1;32m      <a href='vscode-notebook-cell://wsl%2Bubuntu-22.04/home/zimooo2/noise-tuning/distributed/MLOS/mlos_core/notebooks/BayesianOptimization.ipynb#W4sdnNjb2RlLXJlbW90ZQ%3D%3D?line=3'>4</a>\u001b[0m input_space \u001b[39m=\u001b[39m CS\u001b[39m.\u001b[39mConfigurationSpace(seed\u001b[39m=\u001b[39m\u001b[39m1234\u001b[39m)\n",
      "\u001b[0;31mModuleNotFoundError\u001b[0m: No module named 'ConfigSpace'"
     ]
    }
   ],
   "source": [
    "import ConfigSpace as CS\n",
    "\n",
    "# Start defining a ConfigurationSpace for the Optimizer to search.\n",
    "input_space = CS.ConfigurationSpace(seed=1234)\n",
    "\n",
    "# Add a single continuous input dimension between 0 and 1.\n",
    "input_space.add_hyperparameter(CS.UniformFloatHyperparameter(name='x', lower=0, upper=1))"
   ]
  },
  {
   "cell_type": "code",
   "execution_count": null,
   "metadata": {},
   "outputs": [],
   "source": [
    "import mlos_core.optimizers"
   ]
  },
  {
   "cell_type": "code",
   "execution_count": null,
   "metadata": {},
   "outputs": [
    {
     "name": "stdout",
     "output_type": "stream",
     "text": [
      "[INFO][abstract_initial_design.py:82] Using `n_configs` and ignoring `n_configs_per_hyperparameter`.\n",
      "[INFO][abstract_initial_design.py:147] Using 10 initial design configurations and 0 additional configurations.\n"
     ]
    }
   ],
   "source": [
    "# Choose an optimizer.\n",
    "\n",
    "#optimizer = mlos_core.optimizers.RandomOptimizer(parameter_space=input_space)\n",
    "\n",
    "#optimizer = mlos_core.optimizers.FlamlOptimizer(parameter_space=input_space)\n",
    "\n",
    "optimizer = mlos_core.optimizers.SmacOptimizer(parameter_space=input_space) # , seed=42, n_random_init=20)"
   ]
  },
  {
   "cell_type": "code",
   "execution_count": null,
   "metadata": {},
   "outputs": [
    {
     "data": {
      "text/plain": [
       "SmacOptimizer(parameter_space=Configuration space object:\n",
       "  Hyperparameters:\n",
       "    x, Type: UniformFloat, Range: [0.0, 1.0], Default: 0.5\n",
       ")"
      ]
     },
     "execution_count": 171,
     "metadata": {},
     "output_type": "execute_result"
    }
   ],
   "source": [
    "# Inspect the chosen optimizer\n",
    "optimizer"
   ]
  },
  {
   "attachments": {},
   "cell_type": "markdown",
   "metadata": {},
   "source": [
    "Now, we can run the actual optimization which will carry out the steps outlined above."
   ]
  },
  {
   "cell_type": "code",
   "execution_count": null,
   "metadata": {},
   "outputs": [
    {
     "name": "stdout",
     "output_type": "stream",
     "text": [
      "[INFO][abstract_intensifier.py:305] Using only one seed for deterministic scenario.\n",
      "          x\n",
      "0  0.529394 \n",
      " 0    0.981903\n",
      "Name: x, dtype: float64\n",
      "[INFO][abstract_intensifier.py:515] Added config 046b02 as new incumbent because there are no incumbents yet.\n",
      "          x\n",
      "0  0.412449 \n",
      " 0    0.183208\n",
      "Name: x, dtype: float64\n",
      "[INFO][abstract_intensifier.py:590] Added config 6c9ddf and rejected config 046b02 as incumbent because it is not better than the incumbents on 1 instances:\n",
      "[INFO][configspace.py:175] --- x: 0.5293941991008323 -> 0.4124485902231257\n",
      "          x\n",
      "0  0.137717 \n",
      " 0   -0.982619\n",
      "Name: x, dtype: float64\n",
      "[INFO][abstract_intensifier.py:590] Added config 6c38e4 and rejected config 6c9ddf as incumbent because it is not better than the incumbents on 1 instances:\n",
      "[INFO][configspace.py:175] --- x: 0.4124485902231257 -> 0.13771684308449206\n",
      "          x\n",
      "0  0.965271 \n",
      " 0    13.852784\n",
      "Name: x, dtype: float64\n",
      "          x\n",
      "0  0.072383 \n",
      " 0   -0.024966\n",
      "Name: x, dtype: float64\n",
      "          x\n",
      "0  0.220613 \n",
      " 0   -0.446572\n",
      "Name: x, dtype: float64\n",
      "          x\n",
      "0  0.384809 \n",
      " 0    0.055248\n",
      "Name: x, dtype: float64\n",
      "          x\n",
      "0  0.724267 \n",
      " 0   -5.500623\n",
      "Name: x, dtype: float64\n",
      "[INFO][abstract_intensifier.py:590] Added config 9bb6f1 and rejected config 6c38e4 as incumbent because it is not better than the incumbents on 1 instances:\n",
      "[INFO][configspace.py:175] --- x: 0.13771684308449206 -> 0.7242672939130698\n",
      "          x\n",
      "0  0.650459 \n",
      " 0   -2.230947\n",
      "Name: x, dtype: float64\n",
      "         x\n",
      "0  0.81174 \n",
      " 0   -4.252442\n",
      "Name: x, dtype: float64\n",
      "          x\n",
      "0  0.728255 \n",
      " 0   -5.612675\n",
      "Name: x, dtype: float64\n",
      "[INFO][abstract_intensifier.py:590] Added config 5cac60 and rejected config 9bb6f1 as incumbent because it is not better than the incumbents on 1 instances:\n",
      "[INFO][configspace.py:175] --- x: 0.7242672939130698 -> 0.7282549967676114\n",
      "          x\n",
      "0  0.728117 \n",
      " 0   -5.609006\n",
      "Name: x, dtype: float64\n",
      "          x\n",
      "0  0.747548 \n",
      " 0   -5.971926\n",
      "Name: x, dtype: float64\n",
      "[INFO][abstract_intensifier.py:590] Added config 2c10de and rejected config 5cac60 as incumbent because it is not better than the incumbents on 1 instances:\n",
      "[INFO][configspace.py:175] --- x: 0.7282549967676114 -> 0.747547764106232\n",
      "         x\n",
      "0  0.74397 \n",
      " 0   -5.930323\n",
      "Name: x, dtype: float64\n",
      "         x\n",
      "0  0.74826 \n",
      " 0   -5.978736\n",
      "Name: x, dtype: float64\n",
      "[INFO][abstract_intensifier.py:590] Added config 600943 and rejected config 2c10de as incumbent because it is not better than the incumbents on 1 instances:\n",
      "[INFO][configspace.py:175] --- x: 0.747547764106232 -> 0.7482599645068192\n"
     ]
    }
   ],
   "source": [
    "def run_optimization(optimizer: mlos_core.optimizers.BaseOptimizer):\n",
    "    # get a new config value suggestion to try from the optimizer.\n",
    "    suggested_value = optimizer.suggest()\n",
    "    # suggested value are dictionary-like, keys are input space parameter names\n",
    "    # evaluate target function\n",
    "    target_value = f(suggested_value['x'])\n",
    "    print(suggested_value, \"\\n\", target_value)\n",
    "    optimizer.register(suggested_value, target_value)\n",
    "\n",
    "# run for some iterations\n",
    "n_iterations = 15\n",
    "for i in range(n_iterations):\n",
    "    run_optimization(optimizer)"
   ]
  },
  {
   "attachments": {},
   "cell_type": "markdown",
   "metadata": {},
   "source": [
    "After 15 iterations, the model is likely to have captured the general shape, but probably not have found the actual optimum since the first few iterations are spent randomly exploring the space."
   ]
  },
  {
   "cell_type": "code",
   "execution_count": null,
   "metadata": {},
   "outputs": [
    {
     "data": {
      "text/html": [
       "<div>\n",
       "<style scoped>\n",
       "    .dataframe tbody tr th:only-of-type {\n",
       "        vertical-align: middle;\n",
       "    }\n",
       "\n",
       "    .dataframe tbody tr th {\n",
       "        vertical-align: top;\n",
       "    }\n",
       "\n",
       "    .dataframe thead th {\n",
       "        text-align: right;\n",
       "    }\n",
       "</style>\n",
       "<table border=\"1\" class=\"dataframe\">\n",
       "  <thead>\n",
       "    <tr style=\"text-align: right;\">\n",
       "      <th></th>\n",
       "      <th>x</th>\n",
       "      <th>score</th>\n",
       "    </tr>\n",
       "  </thead>\n",
       "  <tbody>\n",
       "    <tr>\n",
       "      <th>0</th>\n",
       "      <td>0.529394</td>\n",
       "      <td>0.981903</td>\n",
       "    </tr>\n",
       "    <tr>\n",
       "      <th>0</th>\n",
       "      <td>0.412449</td>\n",
       "      <td>0.183208</td>\n",
       "    </tr>\n",
       "    <tr>\n",
       "      <th>0</th>\n",
       "      <td>0.137717</td>\n",
       "      <td>-0.982619</td>\n",
       "    </tr>\n",
       "    <tr>\n",
       "      <th>0</th>\n",
       "      <td>0.965271</td>\n",
       "      <td>13.852784</td>\n",
       "    </tr>\n",
       "    <tr>\n",
       "      <th>0</th>\n",
       "      <td>0.072383</td>\n",
       "      <td>-0.024966</td>\n",
       "    </tr>\n",
       "    <tr>\n",
       "      <th>0</th>\n",
       "      <td>0.220613</td>\n",
       "      <td>-0.446572</td>\n",
       "    </tr>\n",
       "    <tr>\n",
       "      <th>0</th>\n",
       "      <td>0.384809</td>\n",
       "      <td>0.055248</td>\n",
       "    </tr>\n",
       "    <tr>\n",
       "      <th>0</th>\n",
       "      <td>0.724267</td>\n",
       "      <td>-5.500623</td>\n",
       "    </tr>\n",
       "    <tr>\n",
       "      <th>0</th>\n",
       "      <td>0.650459</td>\n",
       "      <td>-2.230947</td>\n",
       "    </tr>\n",
       "    <tr>\n",
       "      <th>0</th>\n",
       "      <td>0.811740</td>\n",
       "      <td>-4.252442</td>\n",
       "    </tr>\n",
       "    <tr>\n",
       "      <th>0</th>\n",
       "      <td>0.728255</td>\n",
       "      <td>-5.612675</td>\n",
       "    </tr>\n",
       "    <tr>\n",
       "      <th>0</th>\n",
       "      <td>0.728117</td>\n",
       "      <td>-5.609006</td>\n",
       "    </tr>\n",
       "    <tr>\n",
       "      <th>0</th>\n",
       "      <td>0.747548</td>\n",
       "      <td>-5.971926</td>\n",
       "    </tr>\n",
       "    <tr>\n",
       "      <th>0</th>\n",
       "      <td>0.743970</td>\n",
       "      <td>-5.930323</td>\n",
       "    </tr>\n",
       "    <tr>\n",
       "      <th>0</th>\n",
       "      <td>0.748260</td>\n",
       "      <td>-5.978736</td>\n",
       "    </tr>\n",
       "  </tbody>\n",
       "</table>\n",
       "</div>"
      ],
      "text/plain": [
       "          x      score\n",
       "0  0.529394   0.981903\n",
       "0  0.412449   0.183208\n",
       "0  0.137717  -0.982619\n",
       "0  0.965271  13.852784\n",
       "0  0.072383  -0.024966\n",
       "0  0.220613  -0.446572\n",
       "0  0.384809   0.055248\n",
       "0  0.724267  -5.500623\n",
       "0  0.650459  -2.230947\n",
       "0  0.811740  -4.252442\n",
       "0  0.728255  -5.612675\n",
       "0  0.728117  -5.609006\n",
       "0  0.747548  -5.971926\n",
       "0  0.743970  -5.930323\n",
       "0  0.748260  -5.978736"
      ]
     },
     "execution_count": 173,
     "metadata": {},
     "output_type": "execute_result"
    }
   ],
   "source": [
    "optimizer.get_observations()"
   ]
  },
  {
   "cell_type": "code",
   "execution_count": null,
   "metadata": {},
   "outputs": [
    {
     "data": {
      "image/png": "[encoded data removed]",
      "text/plain": [
       "<Figure size 640x480 with 1 Axes>"
      ]
     },
     "metadata": {},
     "output_type": "display_data"
    }
   ],
   "source": [
    "# evaluate the surrogate function\n",
    "#\n",
    "configs = pd.DataFrame(line.reshape(-1, 1), columns=['x'])\n",
    "surrogate_predictions = optimizer.surrogate_predict(configs)\n",
    "\n",
    "# plot the observations\n",
    "#\n",
    "observations = optimizer.get_observations()\n",
    "plt.scatter(observations.x, observations.score, label='observed points')\n",
    "\n",
    "# plot the true function (usually unknown)\n",
    "#\n",
    "plt.plot(line, values, label='true function')\n",
    "\n",
    "# plot the surrogate\n",
    "#\n",
    "# alpha = optimizer_config.experiment_designer_config.confidence_bound_utility_function_config.alpha\n",
    "# t_values = t.ppf(1 - alpha / 2.0, surrogate_predictions['predicted_value_degrees_of_freedom'])\n",
    "# ci_radii = t_values * np.sqrt(surrogate_predictions['predicted_value_variance'])\n",
    "# value = surrogate_predictions['predicted_value']\n",
    "plt.plot(line, surrogate_predictions, label='surrogate predictions')\n",
    "#plt.fill_between(line, value - ci_radii, value + ci_radii, alpha=.1)\n",
    "#plt.plot(line, -optimizer.experiment_designer.utility_function(optimization_problem.construct_feature_dataframe(pd.DataFrame({'x': line}))), ':', label='utility_function')\n",
    "plt.ylabel(\"Objective function f (performance)\")\n",
    "plt.xlabel(\"Input variable\")\n",
    "plt.legend()\n",
    "plt.show()"
   ]
  },
  {
   "attachments": {},
   "cell_type": "markdown",
   "metadata": {},
   "source": [
    "We can find the best value according to the current surrogate with the ``optimum`` method:"
   ]
  },
  {
   "cell_type": "code",
   "execution_count": null,
   "metadata": {},
   "outputs": [
    {
     "data": {
      "text/html": [
       "<div>\n",
       "<style scoped>\n",
       "    .dataframe tbody tr th:only-of-type {\n",
       "        vertical-align: middle;\n",
       "    }\n",
       "\n",
       "    .dataframe tbody tr th {\n",
       "        vertical-align: top;\n",
       "    }\n",
       "\n",
       "    .dataframe thead th {\n",
       "        text-align: right;\n",
       "    }\n",
       "</style>\n",
       "<table border=\"1\" class=\"dataframe\">\n",
       "  <thead>\n",
       "    <tr style=\"text-align: right;\">\n",
       "      <th></th>\n",
       "      <th>x</th>\n",
       "      <th>score</th>\n",
       "    </tr>\n",
       "  </thead>\n",
       "  <tbody>\n",
       "    <tr>\n",
       "      <th>0</th>\n",
       "      <td>0.74826</td>\n",
       "      <td>-5.978736</td>\n",
       "    </tr>\n",
       "  </tbody>\n",
       "</table>\n",
       "</div>"
      ],
      "text/plain": [
       "         x     score\n",
       "0  0.74826 -5.978736"
      ]
     },
     "execution_count": 175,
     "metadata": {},
     "output_type": "execute_result"
    }
   ],
   "source": [
    "optimizer.get_best_observation()"
   ]
  },
  {
   "attachments": {},
   "cell_type": "markdown",
   "metadata": {},
   "source": [
    "We can run more iterations to improve the surrogate model and the optimum that is found:"
   ]
  },
  {
   "cell_type": "code",
   "execution_count": null,
   "metadata": {},
   "outputs": [
    {
     "name": "stdout",
     "output_type": "stream",
     "text": [
      "          x\n",
      "0  0.760236 \n",
      " 0   -6.015935\n",
      "Name: x, dtype: float64\n",
      "[INFO][abstract_intensifier.py:590] Added config 314671 and rejected config 600943 as incumbent because it is not better than the incumbents on 1 instances:\n",
      "[INFO][configspace.py:175] --- x: 0.7482599645068192 -> 0.7602360169805238\n",
      "          x\n",
      "0  0.767468 \n",
      " 0   -5.963419\n",
      "Name: x, dtype: float64\n",
      "          x\n",
      "0  0.760029 \n",
      " 0   -6.016581\n",
      "Name: x, dtype: float64\n",
      "[INFO][abstract_intensifier.py:590] Added config 225bde and rejected config 314671 as incumbent because it is not better than the incumbents on 1 instances:\n",
      "[INFO][configspace.py:175] --- x: 0.7602360169805238 -> 0.7600285216804508\n",
      "          x\n",
      "0  0.759498 \n",
      " 0   -6.01802\n",
      "Name: x, dtype: float64\n",
      "[INFO][abstract_intensifier.py:590] Added config 5ad459 and rejected config 225bde as incumbent because it is not better than the incumbents on 1 instances:\n",
      "[INFO][configspace.py:175] --- x: 0.7600285216804508 -> 0.7594984647988082\n",
      "          x\n",
      "0  0.758829 \n",
      " 0   -6.019401\n",
      "Name: x, dtype: float64\n",
      "[INFO][abstract_intensifier.py:590] Added config c3822f and rejected config 5ad459 as incumbent because it is not better than the incumbents on 1 instances:\n",
      "[INFO][configspace.py:175] --- x: 0.7594984647988082 -> 0.7588287840653773\n",
      "          x\n",
      "0  0.756974 \n",
      " 0   -6.0207\n",
      "Name: x, dtype: float64\n",
      "[INFO][abstract_intensifier.py:590] Added config d7d064 and rejected config c3822f as incumbent because it is not better than the incumbents on 1 instances:\n",
      "[INFO][configspace.py:175] --- x: 0.7588287840653773 -> 0.7569743298244708\n",
      "          x\n",
      "0  0.756988 \n",
      " 0   -6.020704\n",
      "Name: x, dtype: float64\n",
      "[INFO][abstract_intensifier.py:590] Added config 0c202f and rejected config d7d064 as incumbent because it is not better than the incumbents on 1 instances:\n",
      "[INFO][configspace.py:175] --- x: 0.7569743298244708 -> 0.7569876149262672\n",
      "          x\n",
      "0  0.619115 \n",
      " 0   -0.834508\n",
      "Name: x, dtype: float64\n",
      "          x\n",
      "0  0.822689 \n",
      " 0   -3.443583\n",
      "Name: x, dtype: float64\n",
      "          x\n",
      "0  0.645017 \n",
      " 0   -1.970694\n",
      "Name: x, dtype: float64\n",
      "         x\n",
      "0  0.75556 \n",
      " 0   -6.019224\n",
      "Name: x, dtype: float64\n",
      "         x\n",
      "0  0.75774 \n",
      " 0   -6.020611\n",
      "Name: x, dtype: float64\n",
      "          x\n",
      "0  0.756752 \n",
      " 0   -6.020609\n",
      "Name: x, dtype: float64\n",
      "         x\n",
      "0  0.75701 \n",
      " 0   -6.02071\n",
      "Name: x, dtype: float64\n",
      "[INFO][abstract_intensifier.py:590] Added config d5b33f and rejected config 0c202f as incumbent because it is not better than the incumbents on 1 instances:\n",
      "[INFO][configspace.py:175] --- x: 0.7569876149262672 -> 0.7570100730780202\n",
      "          x\n",
      "0  0.757309 \n",
      " 0   -6.020738\n",
      "Name: x, dtype: float64\n",
      "[INFO][abstract_intensifier.py:590] Added config 578200 and rejected config d5b33f as incumbent because it is not better than the incumbents on 1 instances:\n",
      "[INFO][configspace.py:175] --- x: 0.7570100730780202 -> 0.7573094718822252\n",
      "          x\n",
      "0  0.757339 \n",
      " 0   -6.020736\n",
      "Name: x, dtype: float64\n",
      "          x\n",
      "0  0.757401 \n",
      " 0   -6.020728\n",
      "Name: x, dtype: float64\n",
      "          x\n",
      "0  0.757106 \n",
      " 0   -6.020729\n",
      "Name: x, dtype: float64\n",
      "          x\n",
      "0  0.757475 \n",
      " 0   -6.020713\n",
      "Name: x, dtype: float64\n",
      "          x\n",
      "0  0.623596 \n",
      " 0   -1.015968\n",
      "Name: x, dtype: float64\n",
      "          x\n",
      "0  0.757238 \n",
      " 0   -6.02074\n",
      "Name: x, dtype: float64\n",
      "[INFO][abstract_intensifier.py:590] Added config 671e3a and rejected config 578200 as incumbent because it is not better than the incumbents on 1 instances:\n",
      "[INFO][configspace.py:175] --- x: 0.7573094718822252 -> 0.7572379148000737\n",
      "          x\n",
      "0  0.757328 \n",
      " 0   -6.020737\n",
      "Name: x, dtype: float64\n",
      "          x\n",
      "0  0.757239 \n",
      " 0   -6.02074\n",
      "Name: x, dtype: float64\n",
      "[INFO][abstract_intensifier.py:590] Added config 577e26 and rejected config 671e3a as incumbent because it is not better than the incumbents on 1 instances:\n",
      "[INFO][configspace.py:175] --- x: 0.7572379148000737 -> 0.7572392478479336\n",
      "         x\n",
      "0  0.13462 \n",
      " 0   -0.976262\n",
      "Name: x, dtype: float64\n",
      "          x\n",
      "0  0.757229 \n",
      " 0   -6.02074\n",
      "Name: x, dtype: float64\n",
      "          x\n",
      "0  0.757282 \n",
      " 0   -6.020739\n",
      "Name: x, dtype: float64\n",
      "         x\n",
      "0  0.75712 \n",
      " 0   -6.020731\n",
      "Name: x, dtype: float64\n",
      "          x\n",
      "0  0.757272 \n",
      " 0   -6.02074\n",
      "Name: x, dtype: float64\n",
      "          x\n",
      "0  0.757212 \n",
      " 0   -6.020739\n",
      "Name: x, dtype: float64\n",
      "          x\n",
      "0  0.757221 \n",
      " 0   -6.02074\n",
      "Name: x, dtype: float64\n",
      "         x\n",
      "0  0.75725 \n",
      " 0   -6.02074\n",
      "Name: x, dtype: float64\n",
      "[INFO][abstract_intensifier.py:590] Added config e78bc3 and rejected config 577e26 as incumbent because it is not better than the incumbents on 1 instances:\n",
      "[INFO][configspace.py:175] --- x: 0.7572392478479336 -> 0.7572497477046122\n",
      "          x\n",
      "0  0.757229 \n",
      " 0   -6.02074\n",
      "Name: x, dtype: float64\n",
      "          x\n",
      "0  0.757242 \n",
      " 0   -6.02074\n",
      "Name: x, dtype: float64\n",
      "          x\n",
      "0  0.516326 \n",
      " 0    0.97754\n",
      "Name: x, dtype: float64\n",
      "          x\n",
      "0  0.803298 \n",
      " 0   -4.771415\n",
      "Name: x, dtype: float64\n",
      "          x\n",
      "0  0.992187 \n",
      " 0    15.605854\n",
      "Name: x, dtype: float64\n",
      "          x\n",
      "0  0.757265 \n",
      " 0   -6.02074\n",
      "Name: x, dtype: float64\n",
      "          x\n",
      "0  0.632956 \n",
      " 0   -1.417024\n",
      "Name: x, dtype: float64\n",
      "          x\n",
      "0  0.757921 \n",
      " 0   -6.020498\n",
      "Name: x, dtype: float64\n",
      "         x\n",
      "0  0.64828 \n",
      " 0   -2.126137\n",
      "Name: x, dtype: float64\n",
      "          x\n",
      "0  0.757166 \n",
      " 0   -6.020736\n",
      "Name: x, dtype: float64\n",
      "          x\n",
      "0  0.757244 \n",
      " 0   -6.02074\n",
      "Name: x, dtype: float64\n",
      "          x\n",
      "0  0.567433 \n",
      " 0    0.643774\n",
      "Name: x, dtype: float64\n",
      "          x\n",
      "0  0.087024 \n",
      " 0   -0.403632\n",
      "Name: x, dtype: float64\n",
      "          x\n",
      "0  0.757232 \n",
      " 0   -6.02074\n",
      "Name: x, dtype: float64\n",
      "          x\n",
      "0  0.756384 \n",
      " 0   -6.020342\n",
      "Name: x, dtype: float64\n",
      "          x\n",
      "0  0.757538 \n",
      " 0   -6.020695\n",
      "Name: x, dtype: float64\n",
      "          x\n",
      "0  0.361307 \n",
      " 0    0.00928\n",
      "Name: x, dtype: float64\n",
      "         x\n",
      "0  0.75726 \n",
      " 0   -6.02074\n",
      "Name: x, dtype: float64\n",
      "          x\n",
      "0  0.757206 \n",
      " 0   -6.020739\n",
      "Name: x, dtype: float64\n"
     ]
    }
   ],
   "source": [
    "# run for more iterations\n",
    "n_iterations = 50\n",
    "for i in range(n_iterations):\n",
    "    run_optimization(optimizer)"
   ]
  },
  {
   "attachments": {},
   "cell_type": "markdown",
   "metadata": {},
   "source": [
    "There is some improvement in the optimum:"
   ]
  },
  {
   "cell_type": "code",
   "execution_count": null,
   "metadata": {},
   "outputs": [
    {
     "data": {
      "text/html": [
       "<div>\n",
       "<style scoped>\n",
       "    .dataframe tbody tr th:only-of-type {\n",
       "        vertical-align: middle;\n",
       "    }\n",
       "\n",
       "    .dataframe tbody tr th {\n",
       "        vertical-align: top;\n",
       "    }\n",
       "\n",
       "    .dataframe thead th {\n",
       "        text-align: right;\n",
       "    }\n",
       "</style>\n",
       "<table border=\"1\" class=\"dataframe\">\n",
       "  <thead>\n",
       "    <tr style=\"text-align: right;\">\n",
       "      <th></th>\n",
       "      <th>x</th>\n",
       "      <th>score</th>\n",
       "    </tr>\n",
       "  </thead>\n",
       "  <tbody>\n",
       "    <tr>\n",
       "      <th>0</th>\n",
       "      <td>0.75725</td>\n",
       "      <td>-6.02074</td>\n",
       "    </tr>\n",
       "  </tbody>\n",
       "</table>\n",
       "</div>"
      ],
      "text/plain": [
       "         x    score\n",
       "0  0.75725 -6.02074"
      ]
     },
     "execution_count": 177,
     "metadata": {},
     "output_type": "execute_result"
    }
   ],
   "source": [
    "optimizer.get_best_observation()"
   ]
  },
  {
   "attachments": {},
   "cell_type": "markdown",
   "metadata": {},
   "source": [
    "We can now visualize the surrogate model and optimization process again. The points are colored according to the iteration number, with dark blue points being early in the process and yellow points being later. You can see that at the end of the optimization, the points start to cluster around the optimum.\n",
    "The region to the right is not explored much because the surrogate model predicts that it is not likely to contain the optimum and hence also doesn't have as much accuracy compared to the real function there."
   ]
  },
  {
   "cell_type": "code",
   "execution_count": null,
   "metadata": {},
   "outputs": [
    {
     "data": {
      "text/plain": [
       "<matplotlib.legend.Legend at 0x7f8bc9b4ba60>"
      ]
     },
     "execution_count": 178,
     "metadata": {},
     "output_type": "execute_result"
    },
    {
     "data": {
      "image/png": "[encoded data removed]",
      "text/plain": [
       "<Figure size 640x480 with 2 Axes>"
      ]
     },
     "metadata": {},
     "output_type": "display_data"
    }
   ],
   "source": [
    "# evaluate the surrogate function\n",
    "#\n",
    "configs = pd.DataFrame(line.reshape(-1, 1), columns=['x'])\n",
    "surrogate_predictions = optimizer.surrogate_predict(configs)\n",
    "\n",
    "# plot the observations\n",
    "#\n",
    "observations = optimizer.get_observations()\n",
    "plt.scatter(observations.x, observations.score, label='observed points')\n",
    "\n",
    "# plot true function (usually unknown)\n",
    "#\n",
    "plt.plot(line, values, label='true function')\n",
    "\n",
    "# plot the surrogate\n",
    "#\n",
    "#ci_raduii = surrogate_predictions['prediction_ci']\n",
    "plt.plot(line, surrogate_predictions, label='surrogate predictions')\n",
    "#plt.fill_between(line, value - ci_radii, value + ci_radii, alpha=.1)\n",
    "#plt.plot(line, -optimizer.utility_function(pd.DataFrame({'x': line})), ':', label='utility_function')\n",
    "\n",
    "ax = plt.gca()\n",
    "ax.set_ylabel(\"Objective function f\")\n",
    "ax.set_xlabel(\"Input variable\")\n",
    "bins_axes = ax.twinx()\n",
    "bins_axes.set_ylabel(\"Points sampled\")\n",
    "pd.DataFrame(observations.x).hist(bins=20, ax=bins_axes, alpha=.3, color='k', label=\"count of query points\")\n",
    "plt.legend()"
   ]
  }
 ],
 "metadata": {
  "interpreter": {
   "hash": "dcb43bafd5ce954ead015d0d89e27da6852c23ac7a7b5a1213fc2fecbe919e66"
  },
  "kernelspec": {
   "display_name": "Python [conda env:mlos_core] *",
   "language": "python",
   "name": "python3"
  },
  "language_info": {
   "codemirror_mode": {
    "name": "ipython",
    "version": 3
   },
   "file_extension": ".py",
   "mimetype": "text/x-python",
   "name": "python",
   "nbconvert_exporter": "python",
   "pygments_lexer": "ipython3",
   "version": "3.10.12"
  }
 },
 "nbformat": 4,
 "nbformat_minor": 4
}
